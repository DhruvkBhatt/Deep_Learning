{
  "nbformat": 4,
  "nbformat_minor": 0,
  "metadata": {
    "colab": {
      "name": "CNN_for_Digit_Recognition.ipynb",
      "provenance": [],
      "collapsed_sections": [
        "zZDQJ5DP7jj8",
        "iYtYCgnqCMfL"
      ],
      "toc_visible": true
    },
    "kernelspec": {
      "name": "python3",
      "display_name": "Python 3"
    }
  },
  "cells": [
    {
      "cell_type": "markdown",
      "metadata": {
        "id": "7e6-10eyDOiy",
        "colab_type": "text"
      },
      "source": [
        "# Step 1: Installation and Setup"
      ]
    },
    {
      "cell_type": "code",
      "metadata": {
        "id": "zFW4YZ_86TKl",
        "colab_type": "code",
        "outputId": "6f877ad3-f44e-4f84-96e2-d3322d6ced38",
        "colab": {
          "base_uri": "https://localhost:8080/",
          "height": 904
        }
      },
      "source": [
        "!pip install tensorflow-gpu"
      ],
      "execution_count": 1,
      "outputs": [
        {
          "output_type": "stream",
          "text": [
            "Collecting tensorflow-gpu\n",
            "\u001b[?25l  Downloading https://files.pythonhosted.org/packages/0a/93/c7bca39b23aae45cd2e85ad3871c81eccc63b9c5276e926511e2e5b0879d/tensorflow_gpu-2.1.0-cp36-cp36m-manylinux2010_x86_64.whl (421.8MB)\n",
            "\u001b[K     |████████████████████████████████| 421.8MB 33kB/s \n",
            "\u001b[?25hRequirement already satisfied: termcolor>=1.1.0 in /usr/local/lib/python3.6/dist-packages (from tensorflow-gpu) (1.1.0)\n",
            "Requirement already satisfied: wrapt>=1.11.1 in /usr/local/lib/python3.6/dist-packages (from tensorflow-gpu) (1.11.2)\n",
            "Requirement already satisfied: numpy<2.0,>=1.16.0 in /usr/local/lib/python3.6/dist-packages (from tensorflow-gpu) (1.17.5)\n",
            "Requirement already satisfied: google-pasta>=0.1.6 in /usr/local/lib/python3.6/dist-packages (from tensorflow-gpu) (0.1.8)\n",
            "Collecting tensorboard<2.2.0,>=2.1.0\n",
            "\u001b[?25l  Downloading https://files.pythonhosted.org/packages/40/23/53ffe290341cd0855d595b0a2e7485932f473798af173bbe3a584b99bb06/tensorboard-2.1.0-py3-none-any.whl (3.8MB)\n",
            "\u001b[K     |████████████████████████████████| 3.8MB 32.0MB/s \n",
            "\u001b[?25hRequirement already satisfied: gast==0.2.2 in /usr/local/lib/python3.6/dist-packages (from tensorflow-gpu) (0.2.2)\n",
            "Requirement already satisfied: protobuf>=3.8.0 in /usr/local/lib/python3.6/dist-packages (from tensorflow-gpu) (3.10.0)\n",
            "Collecting tensorflow-estimator<2.2.0,>=2.1.0rc0\n",
            "\u001b[?25l  Downloading https://files.pythonhosted.org/packages/18/90/b77c328a1304437ab1310b463e533fa7689f4bfc41549593056d812fab8e/tensorflow_estimator-2.1.0-py2.py3-none-any.whl (448kB)\n",
            "\u001b[K     |████████████████████████████████| 450kB 51.7MB/s \n",
            "\u001b[?25hRequirement already satisfied: six>=1.12.0 in /usr/local/lib/python3.6/dist-packages (from tensorflow-gpu) (1.12.0)\n",
            "Requirement already satisfied: keras-preprocessing>=1.1.0 in /usr/local/lib/python3.6/dist-packages (from tensorflow-gpu) (1.1.0)\n",
            "Requirement already satisfied: wheel>=0.26; python_version >= \"3\" in /usr/local/lib/python3.6/dist-packages (from tensorflow-gpu) (0.34.2)\n",
            "Requirement already satisfied: keras-applications>=1.0.8 in /usr/local/lib/python3.6/dist-packages (from tensorflow-gpu) (1.0.8)\n",
            "Requirement already satisfied: scipy==1.4.1; python_version >= \"3\" in /usr/local/lib/python3.6/dist-packages (from tensorflow-gpu) (1.4.1)\n",
            "Requirement already satisfied: opt-einsum>=2.3.2 in /usr/local/lib/python3.6/dist-packages (from tensorflow-gpu) (3.1.0)\n",
            "Requirement already satisfied: absl-py>=0.7.0 in /usr/local/lib/python3.6/dist-packages (from tensorflow-gpu) (0.9.0)\n",
            "Requirement already satisfied: astor>=0.6.0 in /usr/local/lib/python3.6/dist-packages (from tensorflow-gpu) (0.8.1)\n",
            "Requirement already satisfied: grpcio>=1.8.6 in /usr/local/lib/python3.6/dist-packages (from tensorflow-gpu) (1.27.1)\n",
            "Requirement already satisfied: google-auth-oauthlib<0.5,>=0.4.1 in /usr/local/lib/python3.6/dist-packages (from tensorboard<2.2.0,>=2.1.0->tensorflow-gpu) (0.4.1)\n",
            "Requirement already satisfied: werkzeug>=0.11.15 in /usr/local/lib/python3.6/dist-packages (from tensorboard<2.2.0,>=2.1.0->tensorflow-gpu) (1.0.0)\n",
            "Requirement already satisfied: google-auth<2,>=1.6.3 in /usr/local/lib/python3.6/dist-packages (from tensorboard<2.2.0,>=2.1.0->tensorflow-gpu) (1.7.2)\n",
            "Requirement already satisfied: requests<3,>=2.21.0 in /usr/local/lib/python3.6/dist-packages (from tensorboard<2.2.0,>=2.1.0->tensorflow-gpu) (2.21.0)\n",
            "Requirement already satisfied: setuptools>=41.0.0 in /usr/local/lib/python3.6/dist-packages (from tensorboard<2.2.0,>=2.1.0->tensorflow-gpu) (45.1.0)\n",
            "Requirement already satisfied: markdown>=2.6.8 in /usr/local/lib/python3.6/dist-packages (from tensorboard<2.2.0,>=2.1.0->tensorflow-gpu) (3.2.1)\n",
            "Requirement already satisfied: h5py in /usr/local/lib/python3.6/dist-packages (from keras-applications>=1.0.8->tensorflow-gpu) (2.8.0)\n",
            "Requirement already satisfied: requests-oauthlib>=0.7.0 in /usr/local/lib/python3.6/dist-packages (from google-auth-oauthlib<0.5,>=0.4.1->tensorboard<2.2.0,>=2.1.0->tensorflow-gpu) (1.3.0)\n",
            "Requirement already satisfied: pyasn1-modules>=0.2.1 in /usr/local/lib/python3.6/dist-packages (from google-auth<2,>=1.6.3->tensorboard<2.2.0,>=2.1.0->tensorflow-gpu) (0.2.8)\n",
            "Requirement already satisfied: cachetools<3.2,>=2.0.0 in /usr/local/lib/python3.6/dist-packages (from google-auth<2,>=1.6.3->tensorboard<2.2.0,>=2.1.0->tensorflow-gpu) (3.1.1)\n",
            "Requirement already satisfied: rsa<4.1,>=3.1.4 in /usr/local/lib/python3.6/dist-packages (from google-auth<2,>=1.6.3->tensorboard<2.2.0,>=2.1.0->tensorflow-gpu) (4.0)\n",
            "Requirement already satisfied: certifi>=2017.4.17 in /usr/local/lib/python3.6/dist-packages (from requests<3,>=2.21.0->tensorboard<2.2.0,>=2.1.0->tensorflow-gpu) (2019.11.28)\n",
            "Requirement already satisfied: chardet<3.1.0,>=3.0.2 in /usr/local/lib/python3.6/dist-packages (from requests<3,>=2.21.0->tensorboard<2.2.0,>=2.1.0->tensorflow-gpu) (3.0.4)\n",
            "Requirement already satisfied: idna<2.9,>=2.5 in /usr/local/lib/python3.6/dist-packages (from requests<3,>=2.21.0->tensorboard<2.2.0,>=2.1.0->tensorflow-gpu) (2.8)\n",
            "Requirement already satisfied: urllib3<1.25,>=1.21.1 in /usr/local/lib/python3.6/dist-packages (from requests<3,>=2.21.0->tensorboard<2.2.0,>=2.1.0->tensorflow-gpu) (1.24.3)\n",
            "Requirement already satisfied: oauthlib>=3.0.0 in /usr/local/lib/python3.6/dist-packages (from requests-oauthlib>=0.7.0->google-auth-oauthlib<0.5,>=0.4.1->tensorboard<2.2.0,>=2.1.0->tensorflow-gpu) (3.1.0)\n",
            "Requirement already satisfied: pyasn1<0.5.0,>=0.4.6 in /usr/local/lib/python3.6/dist-packages (from pyasn1-modules>=0.2.1->google-auth<2,>=1.6.3->tensorboard<2.2.0,>=2.1.0->tensorflow-gpu) (0.4.8)\n",
            "\u001b[31mERROR: tensorflow 1.15.0 has requirement tensorboard<1.16.0,>=1.15.0, but you'll have tensorboard 2.1.0 which is incompatible.\u001b[0m\n",
            "\u001b[31mERROR: tensorflow 1.15.0 has requirement tensorflow-estimator==1.15.1, but you'll have tensorflow-estimator 2.1.0 which is incompatible.\u001b[0m\n",
            "Installing collected packages: tensorboard, tensorflow-estimator, tensorflow-gpu\n",
            "  Found existing installation: tensorboard 1.15.0\n",
            "    Uninstalling tensorboard-1.15.0:\n",
            "      Successfully uninstalled tensorboard-1.15.0\n",
            "  Found existing installation: tensorflow-estimator 1.15.1\n",
            "    Uninstalling tensorflow-estimator-1.15.1:\n",
            "      Successfully uninstalled tensorflow-estimator-1.15.1\n",
            "Successfully installed tensorboard-2.1.0 tensorflow-estimator-2.1.0 tensorflow-gpu-2.1.0\n"
          ],
          "name": "stdout"
        }
      ]
    },
    {
      "cell_type": "code",
      "metadata": {
        "id": "tFX7ygG-7PhI",
        "colab_type": "code",
        "colab": {}
      },
      "source": [
        "import tensorflow as tf"
      ],
      "execution_count": 0,
      "outputs": []
    },
    {
      "cell_type": "code",
      "metadata": {
        "id": "XRaVD9D87TN4",
        "colab_type": "code",
        "outputId": "0db0cf61-eb64-45b3-fc7f-3c6ead143c0a",
        "colab": {
          "base_uri": "https://localhost:8080/",
          "height": 34
        }
      },
      "source": [
        "print(tf.__version__)"
      ],
      "execution_count": 3,
      "outputs": [
        {
          "output_type": "stream",
          "text": [
            "2.1.0\n"
          ],
          "name": "stdout"
        }
      ]
    },
    {
      "cell_type": "code",
      "metadata": {
        "id": "qtPK6zIw7Y8e",
        "colab_type": "code",
        "colab": {}
      },
      "source": [
        "import numpy as np\n",
        "import pandas as pd\n",
        "import matplotlib.pyplot as plt"
      ],
      "execution_count": 0,
      "outputs": []
    },
    {
      "cell_type": "markdown",
      "metadata": {
        "id": "zZDQJ5DP7jj8",
        "colab_type": "text"
      },
      "source": [
        "# Step 2: Data preprocessing"
      ]
    },
    {
      "cell_type": "code",
      "metadata": {
        "id": "Rdp3v0Bh7m3z",
        "colab_type": "code",
        "colab": {}
      },
      "source": [
        "# importing the dataset\n",
        "from tensorflow.keras.datasets import mnist"
      ],
      "execution_count": 0,
      "outputs": []
    },
    {
      "cell_type": "code",
      "metadata": {
        "id": "94srR7ud735O",
        "colab_type": "code",
        "colab": {
          "base_uri": "https://localhost:8080/",
          "height": 0
        },
        "outputId": "6a20ed89-78e4-4716-e8f7-036027cdead9"
      },
      "source": [
        "# loading the dataset\n",
        "(x_train, y_train), (x_test, y_test) = mnist.load_data()"
      ],
      "execution_count": 6,
      "outputs": [
        {
          "output_type": "stream",
          "text": [
            "Downloading data from https://storage.googleapis.com/tensorflow/tf-keras-datasets/mnist.npz\n",
            "11493376/11490434 [==============================] - 0s 0us/step\n"
          ],
          "name": "stdout"
        }
      ]
    },
    {
      "cell_type": "code",
      "metadata": {
        "id": "LW-M86rw8KzZ",
        "colab_type": "code",
        "outputId": "cb677597-4f09-4df4-e1bc-4b1b269c8550",
        "colab": {
          "base_uri": "https://localhost:8080/",
          "height": 0
        }
      },
      "source": [
        "plt.imshow(x_train[0])"
      ],
      "execution_count": 7,
      "outputs": [
        {
          "output_type": "execute_result",
          "data": {
            "text/plain": [
              "<matplotlib.image.AxesImage at 0x7f7c535acbe0>"
            ]
          },
          "metadata": {
            "tags": []
          },
          "execution_count": 7
        },
        {
          "output_type": "display_data",
          "data": {
            "image/png": "[encoded data removed]",
            "text/plain": [
              "<Figure size 432x288 with 1 Axes>"
            ]
          },
          "metadata": {
            "tags": []
          }
        }
      ]
    },
    {
      "cell_type": "code",
      "metadata": {
        "id": "dfnATlaR8TYJ",
        "colab_type": "code",
        "outputId": "b856fcbd-46f5-4fc8-a0a1-9e5eb50c2c2e",
        "colab": {
          "base_uri": "https://localhost:8080/",
          "height": 0
        }
      },
      "source": [
        "y_train[0]"
      ],
      "execution_count": 8,
      "outputs": [
        {
          "output_type": "execute_result",
          "data": {
            "text/plain": [
              "5"
            ]
          },
          "metadata": {
            "tags": []
          },
          "execution_count": 8
        }
      ]
    },
    {
      "cell_type": "code",
      "metadata": {
        "id": "u3w9XRl_8f5k",
        "colab_type": "code",
        "outputId": "20a82dbd-a410-41fe-fa2c-72943266b071",
        "colab": {
          "base_uri": "https://localhost:8080/",
          "height": 0
        }
      },
      "source": [
        "x_train.shape, y_train.shape"
      ],
      "execution_count": 9,
      "outputs": [
        {
          "output_type": "execute_result",
          "data": {
            "text/plain": [
              "((60000, 28, 28), (60000,))"
            ]
          },
          "metadata": {
            "tags": []
          },
          "execution_count": 9
        }
      ]
    },
    {
      "cell_type": "code",
      "metadata": {
        "id": "2PWJ0iDb8vYX",
        "colab_type": "code",
        "outputId": "487ecb7b-9d3d-45f6-da44-9adb4a520e9a",
        "colab": {
          "base_uri": "https://localhost:8080/",
          "height": 0
        }
      },
      "source": [
        "x_test.shape, y_test.shape"
      ],
      "execution_count": 10,
      "outputs": [
        {
          "output_type": "execute_result",
          "data": {
            "text/plain": [
              "((10000, 28, 28), (10000,))"
            ]
          },
          "metadata": {
            "tags": []
          },
          "execution_count": 10
        }
      ]
    },
    {
      "cell_type": "code",
      "metadata": {
        "id": "097ptU7K8_Bj",
        "colab_type": "code",
        "outputId": "3264a25a-c52c-4075-df08-3441b7d2f040",
        "colab": {
          "base_uri": "https://localhost:8080/",
          "height": 0
        }
      },
      "source": [
        "x_train.min(), x_train.max()"
      ],
      "execution_count": 11,
      "outputs": [
        {
          "output_type": "execute_result",
          "data": {
            "text/plain": [
              "(0, 255)"
            ]
          },
          "metadata": {
            "tags": []
          },
          "execution_count": 11
        }
      ]
    },
    {
      "cell_type": "code",
      "metadata": {
        "id": "kR_k4nS79MyV",
        "colab_type": "code",
        "outputId": "6ebbfdb7-2bbc-4c25-c82b-b41ea6653259",
        "colab": {
          "base_uri": "https://localhost:8080/",
          "height": 0
        }
      },
      "source": [
        "y_train.min(), y_train.max()"
      ],
      "execution_count": 12,
      "outputs": [
        {
          "output_type": "execute_result",
          "data": {
            "text/plain": [
              "(0, 9)"
            ]
          },
          "metadata": {
            "tags": []
          },
          "execution_count": 12
        }
      ]
    },
    {
      "cell_type": "code",
      "metadata": {
        "id": "b2CQfWbk9lZD",
        "colab_type": "code",
        "colab": {}
      },
      "source": [
        "# normalize the images\n",
        "x_train = x_train/255.0\n",
        "x_test = x_test/255.0"
      ],
      "execution_count": 0,
      "outputs": []
    },
    {
      "cell_type": "code",
      "metadata": {
        "id": "mYkkayq0-Mhl",
        "colab_type": "code",
        "outputId": "7f48ab48-a918-4cc6-bcea-8b645babe214",
        "colab": {
          "base_uri": "https://localhost:8080/",
          "height": 0
        }
      },
      "source": [
        "x_train.min(), x_train.max()"
      ],
      "execution_count": 14,
      "outputs": [
        {
          "output_type": "execute_result",
          "data": {
            "text/plain": [
              "(0.0, 1.0)"
            ]
          },
          "metadata": {
            "tags": []
          },
          "execution_count": 14
        }
      ]
    },
    {
      "cell_type": "code",
      "metadata": {
        "id": "bRZHDyh9-m6U",
        "colab_type": "code",
        "outputId": "0dd4268c-b066-4037-98d0-da7dc4d6870a",
        "colab": {
          "base_uri": "https://localhost:8080/",
          "height": 0
        }
      },
      "source": [
        "x_train.shape, x_test.shape"
      ],
      "execution_count": 15,
      "outputs": [
        {
          "output_type": "execute_result",
          "data": {
            "text/plain": [
              "((60000, 28, 28), (10000, 28, 28))"
            ]
          },
          "metadata": {
            "tags": []
          },
          "execution_count": 15
        }
      ]
    },
    {
      "cell_type": "code",
      "metadata": {
        "id": "LMOsLdZK-aIa",
        "colab_type": "code",
        "colab": {}
      },
      "source": [
        "# reshape the images\n",
        "x_train = x_train.reshape(60000, 28, 28, 1)\n",
        "x_test = x_test.reshape(10000, 28, 28, 1)"
      ],
      "execution_count": 0,
      "outputs": []
    },
    {
      "cell_type": "code",
      "metadata": {
        "id": "SUEosS7J_TMx",
        "colab_type": "code",
        "outputId": "5952ffd5-55c3-4da9-a4a1-4c48e01961d1",
        "colab": {
          "base_uri": "https://localhost:8080/",
          "height": 0
        }
      },
      "source": [
        "x_train.shape, x_test.shape"
      ],
      "execution_count": 17,
      "outputs": [
        {
          "output_type": "execute_result",
          "data": {
            "text/plain": [
              "((60000, 28, 28, 1), (10000, 28, 28, 1))"
            ]
          },
          "metadata": {
            "tags": []
          },
          "execution_count": 17
        }
      ]
    },
    {
      "cell_type": "code",
      "metadata": {
        "id": "hIIOeGLV_bx7",
        "colab_type": "code",
        "colab": {}
      },
      "source": [
        "input_shape = x_train[0].shape"
      ],
      "execution_count": 0,
      "outputs": []
    },
    {
      "cell_type": "code",
      "metadata": {
        "id": "oeL9trj-_h5l",
        "colab_type": "code",
        "outputId": "1397bed9-3b82-46dc-b0ea-acfc079b2c21",
        "colab": {
          "base_uri": "https://localhost:8080/",
          "height": 0
        }
      },
      "source": [
        "print(input_shape)"
      ],
      "execution_count": 19,
      "outputs": [
        {
          "output_type": "stream",
          "text": [
            "(28, 28, 1)\n"
          ],
          "name": "stdout"
        }
      ]
    },
    {
      "cell_type": "markdown",
      "metadata": {
        "id": "iYtYCgnqCMfL",
        "colab_type": "text"
      },
      "source": [
        "# Step 3: Building the Model"
      ]
    },
    {
      "cell_type": "code",
      "metadata": {
        "id": "b7q2EZIDCOMy",
        "colab_type": "code",
        "colab": {}
      },
      "source": [
        "# define an object\n",
        "model = tf.keras.models.Sequential()"
      ],
      "execution_count": 0,
      "outputs": []
    },
    {
      "cell_type": "code",
      "metadata": {
        "id": "luSGBgjhDz4m",
        "colab_type": "code",
        "colab": {}
      },
      "source": [
        "# Adding first CNN layer\n",
        "model.add(tf.keras.layers.Conv2D(filters=32, kernel_size=(3,3), activation='relu', input_shape = (28,28,1)))\n",
        "\n",
        "# Adding second CNN layer\n",
        "model.add(tf.keras.layers.Conv2D(filters=64, kernel_size=(3,3), activation='relu'))\n",
        "\n",
        "# adding maxpool layer\n",
        "model.add(tf.keras.layers.MaxPool2D(pool_size=(2,2)))\n",
        "\n",
        "# adding dropout layer\n",
        "model.add(tf.keras.layers.Dropout(0.4))\n",
        "\n",
        "# addding flatten layer\n",
        "model.add(tf.keras.layers.Flatten())\n",
        "\n",
        "# fully connected layer (dense layer)\n",
        "model.add(tf.keras.layers.Dense(units=128, activation='relu'))\n",
        "\n",
        "# output layer\n",
        "model.add(tf.keras.layers.Dense(units=10, activation='softmax'))\n"
      ],
      "execution_count": 0,
      "outputs": []
    },
    {
      "cell_type": "code",
      "metadata": {
        "id": "Q7xhaevXGwk_",
        "colab_type": "code",
        "outputId": "3f5511c6-9855-4ba7-d5b3-a7354757a45c",
        "colab": {
          "base_uri": "https://localhost:8080/",
          "height": 0
        }
      },
      "source": [
        "model.summary()"
      ],
      "execution_count": 22,
      "outputs": [
        {
          "output_type": "stream",
          "text": [
            "Model: \"sequential\"\n",
            "_________________________________________________________________\n",
            "Layer (type)                 Output Shape              Param #   \n",
            "=================================================================\n",
            "conv2d (Conv2D)              (None, 26, 26, 32)        320       \n",
            "_________________________________________________________________\n",
            "conv2d_1 (Conv2D)            (None, 24, 24, 64)        18496     \n",
            "_________________________________________________________________\n",
            "max_pooling2d (MaxPooling2D) (None, 12, 12, 64)        0         \n",
            "_________________________________________________________________\n",
            "dropout (Dropout)            (None, 12, 12, 64)        0         \n",
            "_________________________________________________________________\n",
            "flatten (Flatten)            (None, 9216)              0         \n",
            "_________________________________________________________________\n",
            "dense (Dense)                (None, 128)               1179776   \n",
            "_________________________________________________________________\n",
            "dense_1 (Dense)              (None, 10)                1290      \n",
            "=================================================================\n",
            "Total params: 1,199,882\n",
            "Trainable params: 1,199,882\n",
            "Non-trainable params: 0\n",
            "_________________________________________________________________\n"
          ],
          "name": "stdout"
        }
      ]
    },
    {
      "cell_type": "code",
      "metadata": {
        "id": "akH5Bc6GHLcs",
        "colab_type": "code",
        "colab": {}
      },
      "source": [
        "model.compile(optimizer='adam', loss='sparse_categorical_crossentropy', metrics=['sparse_categorical_accuracy'])"
      ],
      "execution_count": 0,
      "outputs": []
    },
    {
      "cell_type": "markdown",
      "metadata": {
        "id": "qJpWKsrNMFZX",
        "colab_type": "text"
      },
      "source": [
        "# Step 4: Training the model"
      ]
    },
    {
      "cell_type": "code",
      "metadata": {
        "id": "JIkiwuXZMIk8",
        "colab_type": "code",
        "outputId": "f1fc7a9f-9f71-4035-edfa-34842ad339cd",
        "colab": {
          "base_uri": "https://localhost:8080/",
          "height": 1000
        }
      },
      "source": [
        "history = model.fit(x_train, y_train, batch_size=128, epochs=30, validation_data=(x_test, y_test))"
      ],
      "execution_count": 24,
      "outputs": [
        {
          "output_type": "stream",
          "text": [
            "Train on 60000 samples, validate on 10000 samples\n",
            "Epoch 1/30\n",
            "60000/60000 [==============================] - 151s 3ms/sample - loss: 0.1734 - sparse_categorical_accuracy: 0.9474 - val_loss: 0.0545 - val_sparse_categorical_accuracy: 0.9831\n",
            "Epoch 2/30\n",
            "60000/60000 [==============================] - 150s 3ms/sample - loss: 0.0531 - sparse_categorical_accuracy: 0.9833 - val_loss: 0.0368 - val_sparse_categorical_accuracy: 0.9879\n",
            "Epoch 3/30\n",
            "60000/60000 [==============================] - 151s 3ms/sample - loss: 0.0350 - sparse_categorical_accuracy: 0.9889 - val_loss: 0.0288 - val_sparse_categorical_accuracy: 0.9906\n",
            "Epoch 4/30\n",
            "60000/60000 [==============================] - 150s 3ms/sample - loss: 0.0258 - sparse_categorical_accuracy: 0.9916 - val_loss: 0.0337 - val_sparse_categorical_accuracy: 0.9884\n",
            "Epoch 5/30\n",
            "60000/60000 [==============================] - 150s 2ms/sample - loss: 0.0227 - sparse_categorical_accuracy: 0.9922 - val_loss: 0.0317 - val_sparse_categorical_accuracy: 0.9905\n",
            "Epoch 6/30\n",
            "60000/60000 [==============================] - 151s 3ms/sample - loss: 0.0174 - sparse_categorical_accuracy: 0.9939 - val_loss: 0.0352 - val_sparse_categorical_accuracy: 0.9900\n",
            "Epoch 7/30\n",
            "60000/60000 [==============================] - 151s 3ms/sample - loss: 0.0146 - sparse_categorical_accuracy: 0.9948 - val_loss: 0.0366 - val_sparse_categorical_accuracy: 0.9894\n",
            "Epoch 8/30\n",
            "60000/60000 [==============================] - 153s 3ms/sample - loss: 0.0120 - sparse_categorical_accuracy: 0.9961 - val_loss: 0.0335 - val_sparse_categorical_accuracy: 0.9899\n",
            "Epoch 9/30\n",
            "60000/60000 [==============================] - 155s 3ms/sample - loss: 0.0110 - sparse_categorical_accuracy: 0.9964 - val_loss: 0.0312 - val_sparse_categorical_accuracy: 0.9908\n",
            "Epoch 10/30\n",
            "60000/60000 [==============================] - 150s 2ms/sample - loss: 0.0087 - sparse_categorical_accuracy: 0.9973 - val_loss: 0.0324 - val_sparse_categorical_accuracy: 0.9914\n",
            "Epoch 11/30\n",
            "60000/60000 [==============================] - 151s 3ms/sample - loss: 0.0085 - sparse_categorical_accuracy: 0.9970 - val_loss: 0.0352 - val_sparse_categorical_accuracy: 0.9898\n",
            "Epoch 12/30\n",
            "60000/60000 [==============================] - 150s 3ms/sample - loss: 0.0089 - sparse_categorical_accuracy: 0.9970 - val_loss: 0.0526 - val_sparse_categorical_accuracy: 0.9874\n",
            "Epoch 13/30\n",
            "60000/60000 [==============================] - 151s 3ms/sample - loss: 0.0070 - sparse_categorical_accuracy: 0.9976 - val_loss: 0.0368 - val_sparse_categorical_accuracy: 0.9907\n",
            "Epoch 14/30\n",
            "60000/60000 [==============================] - 150s 2ms/sample - loss: 0.0080 - sparse_categorical_accuracy: 0.9973 - val_loss: 0.0341 - val_sparse_categorical_accuracy: 0.9912\n",
            "Epoch 15/30\n",
            "60000/60000 [==============================] - 150s 3ms/sample - loss: 0.0069 - sparse_categorical_accuracy: 0.9975 - val_loss: 0.0387 - val_sparse_categorical_accuracy: 0.9914\n",
            "Epoch 16/30\n",
            "60000/60000 [==============================] - 149s 2ms/sample - loss: 0.0050 - sparse_categorical_accuracy: 0.9983 - val_loss: 0.0483 - val_sparse_categorical_accuracy: 0.9899\n",
            "Epoch 17/30\n",
            "60000/60000 [==============================] - 150s 2ms/sample - loss: 0.0050 - sparse_categorical_accuracy: 0.9982 - val_loss: 0.0419 - val_sparse_categorical_accuracy: 0.9904\n",
            "Epoch 18/30\n",
            "60000/60000 [==============================] - 151s 3ms/sample - loss: 0.0058 - sparse_categorical_accuracy: 0.9980 - val_loss: 0.0468 - val_sparse_categorical_accuracy: 0.9886\n",
            "Epoch 19/30\n",
            "60000/60000 [==============================] - 152s 3ms/sample - loss: 0.0052 - sparse_categorical_accuracy: 0.9982 - val_loss: 0.0390 - val_sparse_categorical_accuracy: 0.9904\n",
            "Epoch 20/30\n",
            "60000/60000 [==============================] - 150s 2ms/sample - loss: 0.0055 - sparse_categorical_accuracy: 0.9983 - val_loss: 0.0418 - val_sparse_categorical_accuracy: 0.9911\n",
            "Epoch 21/30\n",
            "60000/60000 [==============================] - 150s 3ms/sample - loss: 0.0048 - sparse_categorical_accuracy: 0.9984 - val_loss: 0.0448 - val_sparse_categorical_accuracy: 0.9905\n",
            "Epoch 22/30\n",
            "60000/60000 [==============================] - 150s 3ms/sample - loss: 0.0036 - sparse_categorical_accuracy: 0.9987 - val_loss: 0.0430 - val_sparse_categorical_accuracy: 0.9919\n",
            "Epoch 23/30\n",
            "60000/60000 [==============================] - 151s 3ms/sample - loss: 0.0037 - sparse_categorical_accuracy: 0.9987 - val_loss: 0.0455 - val_sparse_categorical_accuracy: 0.9901\n",
            "Epoch 24/30\n",
            "60000/60000 [==============================] - 149s 2ms/sample - loss: 0.0035 - sparse_categorical_accuracy: 0.9990 - val_loss: 0.0430 - val_sparse_categorical_accuracy: 0.9910\n",
            "Epoch 25/30\n",
            "60000/60000 [==============================] - 149s 2ms/sample - loss: 0.0037 - sparse_categorical_accuracy: 0.9988 - val_loss: 0.0455 - val_sparse_categorical_accuracy: 0.9907\n",
            "Epoch 26/30\n",
            "60000/60000 [==============================] - 148s 2ms/sample - loss: 0.0037 - sparse_categorical_accuracy: 0.9986 - val_loss: 0.0440 - val_sparse_categorical_accuracy: 0.9916\n",
            "Epoch 27/30\n",
            "60000/60000 [==============================] - 148s 2ms/sample - loss: 0.0042 - sparse_categorical_accuracy: 0.9987 - val_loss: 0.0394 - val_sparse_categorical_accuracy: 0.9920\n",
            "Epoch 28/30\n",
            "60000/60000 [==============================] - 152s 3ms/sample - loss: 0.0030 - sparse_categorical_accuracy: 0.9990 - val_loss: 0.0479 - val_sparse_categorical_accuracy: 0.9903\n",
            "Epoch 29/30\n",
            "60000/60000 [==============================] - 151s 3ms/sample - loss: 0.0039 - sparse_categorical_accuracy: 0.9986 - val_loss: 0.0475 - val_sparse_categorical_accuracy: 0.9912\n",
            "Epoch 30/30\n",
            "60000/60000 [==============================] - 151s 3ms/sample - loss: 0.0023 - sparse_categorical_accuracy: 0.9992 - val_loss: 0.0637 - val_sparse_categorical_accuracy: 0.9894\n"
          ],
          "name": "stdout"
        }
      ]
    },
    {
      "cell_type": "code",
      "metadata": {
        "id": "I2QU6w9xWeUp",
        "colab_type": "code",
        "colab": {}
      },
      "source": [
        "# model predictions\n",
        "y_pred = model.predict_classes(x_test)"
      ],
      "execution_count": 0,
      "outputs": []
    },
    {
      "cell_type": "code",
      "metadata": {
        "id": "Kvtd5mffWsHN",
        "colab_type": "code",
        "outputId": "b08e944f-4c00-4185-820a-96360c30ffb1",
        "colab": {
          "base_uri": "https://localhost:8080/",
          "height": 34
        }
      },
      "source": [
        "y_pred[15], y_test[15]"
      ],
      "execution_count": 26,
      "outputs": [
        {
          "output_type": "execute_result",
          "data": {
            "text/plain": [
              "(5, 5)"
            ]
          },
          "metadata": {
            "tags": []
          },
          "execution_count": 26
        }
      ]
    },
    {
      "cell_type": "code",
      "metadata": {
        "id": "gHtzImKQXAWz",
        "colab_type": "code",
        "outputId": "e6eb0ccb-1fc8-4087-d772-50b807827eac",
        "colab": {
          "base_uri": "https://localhost:8080/",
          "height": 187
        }
      },
      "source": [
        "# confusion matrix\n",
        "from sklearn.metrics import confusion_matrix, accuracy_score\n",
        "cm = confusion_matrix(y_test, y_pred)\n",
        "print(cm)"
      ],
      "execution_count": 27,
      "outputs": [
        {
          "output_type": "stream",
          "text": [
            "[[ 979    0    0    0    0    0    0    1    0    0]\n",
            " [   1 1131    0    0    0    0    1    1    0    1]\n",
            " [   2    4 1017    0    0    0    0    8    0    1]\n",
            " [   1    0    0 1003    0    3    0    3    0    0]\n",
            " [   0    0    0    0  977    0    0    0    0    5]\n",
            " [   1    0    0    5    0  882    4    0    0    0]\n",
            " [   6    3    0    0    1    1  946    0    1    0]\n",
            " [   0    2    3    0    0    0    0 1019    0    4]\n",
            " [  12    1    2    0    0    0    3    2  943   11]\n",
            " [   1    1    0    0    4    2    0    4    0  997]]\n"
          ],
          "name": "stdout"
        }
      ]
    },
    {
      "cell_type": "code",
      "metadata": {
        "id": "9yzeK9-aXpMW",
        "colab_type": "code",
        "outputId": "91d0771f-e59f-42f0-c574-1aa3faa57546",
        "colab": {
          "base_uri": "https://localhost:8080/",
          "height": 34
        }
      },
      "source": [
        "acc_cm = accuracy_score(y_test, y_pred)\n",
        "print(acc_cm)"
      ],
      "execution_count": 28,
      "outputs": [
        {
          "output_type": "stream",
          "text": [
            "0.9894\n"
          ],
          "name": "stdout"
        }
      ]
    },
    {
      "cell_type": "markdown",
      "metadata": {
        "id": "y4DTw_4eYOFZ",
        "colab_type": "text"
      },
      "source": [
        "# Step 5: Learning curve"
      ]
    },
    {
      "cell_type": "code",
      "metadata": {
        "id": "Jx6toIjnX7DH",
        "colab_type": "code",
        "colab": {}
      },
      "source": [
        "def learning_curve(history, epoch):\n",
        "\n",
        "  # training vs validation accuracy\n",
        "  epoch_range = range(1, epoch+1)\n",
        "  plt.plot(epoch_range, history.history['sparse_categorical_accuracy'])\n",
        "  plt.plot(epoch_range, history.history['val_sparse_categorical_accuracy'])\n",
        "  plt.title('Model Accuracy')\n",
        "  plt.ylabel('Accuracy')\n",
        "  plt.xlabel('Epoch')\n",
        "  plt.legend(['Train', 'val'], loc='upper left')\n",
        "  plt.show()\n",
        "\n",
        "  # training vs validation loss\n",
        "  plt.plot(epoch_range, history.history['loss'])\n",
        "  plt.plot(epoch_range, history.history['val_loss'])\n",
        "  plt.title('Model Loss')\n",
        "  plt.ylabel('Loss')\n",
        "  plt.xlabel('Epoch')\n",
        "  plt.legend(['Train', 'val'], loc='upper left')\n",
        "  plt.show()"
      ],
      "execution_count": 0,
      "outputs": []
    },
    {
      "cell_type": "code",
      "metadata": {
        "id": "0h0yy6jrY8U3",
        "colab_type": "code",
        "outputId": "aa3f7257-f8f8-4d6f-a6cf-7af2ec5f8335",
        "colab": {
          "base_uri": "https://localhost:8080/",
          "height": 573
        }
      },
      "source": [
        "learning_curve(history, 30)"
      ],
      "execution_count": 31,
      "outputs": [
        {
          "output_type": "display_data",
          "data": {
            "image/png": "[encoded data removed]",
            "text/plain": [
              "<Figure size 432x288 with 1 Axes>"
            ]
          },
          "metadata": {
            "tags": []
          }
        },
        {
          "output_type": "display_data",
          "data": {
            "image/png": "[encoded data removed]",
            "text/plain": [
              "<Figure size 432x288 with 1 Axes>"
            ]
          },
          "metadata": {
            "tags": []
          }
        }
      ]
    },
    {
      "cell_type": "code",
      "metadata": {
        "id": "Rk85oEmdd3OA",
        "colab_type": "code",
        "colab": {}
      },
      "source": [
        ""
      ],
      "execution_count": 0,
      "outputs": []
    }
  ]
}