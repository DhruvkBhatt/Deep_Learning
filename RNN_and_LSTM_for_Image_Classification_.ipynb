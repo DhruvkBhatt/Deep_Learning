{
  "nbformat": 4,
  "nbformat_minor": 0,
  "metadata": {
    "colab": {
      "name": "RNN_and_LSTM_for_Image_Classification .ipynb",
      "provenance": [],
      "collapsed_sections": [],
      "toc_visible": true
    },
    "kernelspec": {
      "name": "python3",
      "display_name": "Python 3"
    },
    "accelerator": "GPU"
  },
  "cells": [
    {
      "cell_type": "markdown",
      "metadata": {
        "id": "yqhuP8i8t6qy",
        "colab_type": "text"
      },
      "source": [
        "# Step 1: Installation and Setup"
      ]
    },
    {
      "cell_type": "code",
      "metadata": {
        "id": "0v6YsrEht7a0",
        "colab_type": "code",
        "colab": {}
      },
      "source": [
        "!pip install -q tensorflow-gpu"
      ],
      "execution_count": 0,
      "outputs": []
    },
    {
      "cell_type": "code",
      "metadata": {
        "id": "2gSo_qQpwYEW",
        "colab_type": "code",
        "colab": {}
      },
      "source": [
        "import tensorflow as tf"
      ],
      "execution_count": 0,
      "outputs": []
    },
    {
      "cell_type": "code",
      "metadata": {
        "id": "B4n6ae01woPf",
        "colab_type": "code",
        "outputId": "0eff6c93-cdbb-48a0-e3d3-4ad7d449a4aa",
        "colab": {
          "base_uri": "https://localhost:8080/",
          "height": 34
        }
      },
      "source": [
        "print(tf.__version__)"
      ],
      "execution_count": 3,
      "outputs": [
        {
          "output_type": "stream",
          "text": [
            "2.1.0\n"
          ],
          "name": "stdout"
        }
      ]
    },
    {
      "cell_type": "code",
      "metadata": {
        "id": "1G_-lv5nwtH7",
        "colab_type": "code",
        "colab": {}
      },
      "source": [
        "import numpy as np\n",
        "import pandas as pd\n",
        "import matplotlib.pyplot as plt"
      ],
      "execution_count": 0,
      "outputs": []
    },
    {
      "cell_type": "markdown",
      "metadata": {
        "id": "4EBe2505w7-r",
        "colab_type": "text"
      },
      "source": [
        "# Step 2: Data Preprocessing"
      ]
    },
    {
      "cell_type": "code",
      "metadata": {
        "id": "C2csvRSowzPb",
        "colab_type": "code",
        "colab": {}
      },
      "source": [
        "# importing the dataset\n",
        "from tensorflow.keras.datasets import mnist"
      ],
      "execution_count": 0,
      "outputs": []
    },
    {
      "cell_type": "code",
      "metadata": {
        "id": "VgjgaQxFxT3K",
        "colab_type": "code",
        "outputId": "45bc1320-bc6b-47be-c25f-da948e059d1e",
        "colab": {
          "base_uri": "https://localhost:8080/",
          "height": 51
        }
      },
      "source": [
        "# loading the dataset\n",
        "(x_train, y_train), (x_test, y_test) = mnist.load_data()"
      ],
      "execution_count": 6,
      "outputs": [
        {
          "output_type": "stream",
          "text": [
            "Downloading data from https://storage.googleapis.com/tensorflow/tf-keras-datasets/mnist.npz\n",
            "11493376/11490434 [==============================] - 0s 0us/step\n"
          ],
          "name": "stdout"
        }
      ]
    },
    {
      "cell_type": "code",
      "metadata": {
        "id": "9PuMMuq1x8Jp",
        "colab_type": "code",
        "outputId": "0600e945-fcf1-4184-c671-3d0c8383d9a3",
        "colab": {
          "base_uri": "https://localhost:8080/",
          "height": 34
        }
      },
      "source": [
        "x_train.shape, x_test.shape"
      ],
      "execution_count": 7,
      "outputs": [
        {
          "output_type": "execute_result",
          "data": {
            "text/plain": [
              "((60000, 28, 28), (10000, 28, 28))"
            ]
          },
          "metadata": {
            "tags": []
          },
          "execution_count": 7
        }
      ]
    },
    {
      "cell_type": "code",
      "metadata": {
        "id": "lzeNNXuIydd7",
        "colab_type": "code",
        "outputId": "5b19f7ad-228c-4b38-ff06-c61101e7f60a",
        "colab": {
          "base_uri": "https://localhost:8080/",
          "height": 34
        }
      },
      "source": [
        "y_train.shape, y_test.shape"
      ],
      "execution_count": 8,
      "outputs": [
        {
          "output_type": "execute_result",
          "data": {
            "text/plain": [
              "((60000,), (10000,))"
            ]
          },
          "metadata": {
            "tags": []
          },
          "execution_count": 8
        }
      ]
    },
    {
      "cell_type": "code",
      "metadata": {
        "id": "LQ_wMKt7ykea",
        "colab_type": "code",
        "outputId": "a0c124c1-2c8a-4aa4-f999-b76309c2bfa5",
        "colab": {
          "base_uri": "https://localhost:8080/",
          "height": 34
        }
      },
      "source": [
        "x_train.min(), x_train.max()"
      ],
      "execution_count": 9,
      "outputs": [
        {
          "output_type": "execute_result",
          "data": {
            "text/plain": [
              "(0, 255)"
            ]
          },
          "metadata": {
            "tags": []
          },
          "execution_count": 9
        }
      ]
    },
    {
      "cell_type": "code",
      "metadata": {
        "id": "XIa_TuWuyvuq",
        "colab_type": "code",
        "outputId": "790eae76-24d5-4ec0-e51d-5cbf51061b98",
        "colab": {
          "base_uri": "https://localhost:8080/",
          "height": 34
        }
      },
      "source": [
        "y_train.min(), y_train.max()"
      ],
      "execution_count": 10,
      "outputs": [
        {
          "output_type": "execute_result",
          "data": {
            "text/plain": [
              "(0, 9)"
            ]
          },
          "metadata": {
            "tags": []
          },
          "execution_count": 10
        }
      ]
    },
    {
      "cell_type": "code",
      "metadata": {
        "id": "4a9gxUayy_39",
        "colab_type": "code",
        "colab": {}
      },
      "source": [
        "# normalize the dataset\n",
        "x_train = x_train / 255.0\n",
        "x_test = x_test / 255.0"
      ],
      "execution_count": 0,
      "outputs": []
    },
    {
      "cell_type": "code",
      "metadata": {
        "id": "Ru9_zjGIzPi5",
        "colab_type": "code",
        "outputId": "c8149b3b-a507-4d4a-9bb8-66b7746b9d14",
        "colab": {
          "base_uri": "https://localhost:8080/",
          "height": 34
        }
      },
      "source": [
        "x_train.min(), x_train.max()"
      ],
      "execution_count": 12,
      "outputs": [
        {
          "output_type": "execute_result",
          "data": {
            "text/plain": [
              "(0.0, 1.0)"
            ]
          },
          "metadata": {
            "tags": []
          },
          "execution_count": 12
        }
      ]
    },
    {
      "cell_type": "code",
      "metadata": {
        "id": "wm2jsFx3zWKV",
        "colab_type": "code",
        "outputId": "89a99f80-7a45-4fa4-a95a-d3f5a89457dc",
        "colab": {
          "base_uri": "https://localhost:8080/",
          "height": 282
        }
      },
      "source": [
        "plt.imshow(x_train[5])"
      ],
      "execution_count": 13,
      "outputs": [
        {
          "output_type": "execute_result",
          "data": {
            "text/plain": [
              "<matplotlib.image.AxesImage at 0x7fdd94dc60b8>"
            ]
          },
          "metadata": {
            "tags": []
          },
          "execution_count": 13
        },
        {
          "output_type": "display_data",
          "data": {
            "image/png": "[encoded data removed]",
            "text/plain": [
              "<Figure size 432x288 with 1 Axes>"
            ]
          },
          "metadata": {
            "tags": [],
            "needs_background": "light"
          }
        }
      ]
    },
    {
      "cell_type": "code",
      "metadata": {
        "id": "GDepmnCgzoPZ",
        "colab_type": "code",
        "outputId": "343cdb6b-9271-4c67-d2c1-0c7a51c81106",
        "colab": {
          "base_uri": "https://localhost:8080/",
          "height": 34
        }
      },
      "source": [
        "y_train[5]"
      ],
      "execution_count": 14,
      "outputs": [
        {
          "output_type": "execute_result",
          "data": {
            "text/plain": [
              "2"
            ]
          },
          "metadata": {
            "tags": []
          },
          "execution_count": 14
        }
      ]
    },
    {
      "cell_type": "markdown",
      "metadata": {
        "id": "crC37q3L0YEh",
        "colab_type": "text"
      },
      "source": [
        "# Step 3: Building the LSTM"
      ]
    },
    {
      "cell_type": "code",
      "metadata": {
        "id": "DuXUtEDMWP8x",
        "colab_type": "code",
        "colab": {}
      },
      "source": [
        "# define an object (initilizing RNN)\n",
        "model = tf.keras.models.Sequential()"
      ],
      "execution_count": 0,
      "outputs": []
    },
    {
      "cell_type": "code",
      "metadata": {
        "id": "jt025futX282",
        "colab_type": "code",
        "colab": {}
      },
      "source": [
        "# first LSTM layer\n",
        "model.add(tf.keras.layers.LSTM(units=128, activation='relu', return_sequences=True, input_shape=(28, 28)))\n",
        "model.add(tf.keras.layers.Dropout(0.2))\n",
        "\n",
        "# second LSTM layer\n",
        "model.add(tf.keras.layers.LSTM(units=128, activation='relu'))\n",
        "model.add(tf.keras.layers.Dropout(0.2))\n",
        "\n",
        "# fully connected layer (first dense layer)\n",
        "model.add(tf.keras.layers.Dense(units=32, activation='relu'))\n",
        "model.add(tf.keras.layers.Dropout(0.2))\n",
        "\n",
        "# output layer\n",
        "model.add(tf.keras.layers.Dense(units=10, activation='softmax'))"
      ],
      "execution_count": 0,
      "outputs": []
    },
    {
      "cell_type": "code",
      "metadata": {
        "id": "C66ss1DGada9",
        "colab_type": "code",
        "outputId": "97addf96-1dec-4b97-8214-ab5fe4919308",
        "colab": {
          "base_uri": "https://localhost:8080/",
          "height": 391
        }
      },
      "source": [
        "model.summary()"
      ],
      "execution_count": 17,
      "outputs": [
        {
          "output_type": "stream",
          "text": [
            "Model: \"sequential\"\n",
            "_________________________________________________________________\n",
            "Layer (type)                 Output Shape              Param #   \n",
            "=================================================================\n",
            "lstm (LSTM)                  (None, 28, 128)           80384     \n",
            "_________________________________________________________________\n",
            "dropout (Dropout)            (None, 28, 128)           0         \n",
            "_________________________________________________________________\n",
            "lstm_1 (LSTM)                (None, 128)               131584    \n",
            "_________________________________________________________________\n",
            "dropout_1 (Dropout)          (None, 128)               0         \n",
            "_________________________________________________________________\n",
            "dense (Dense)                (None, 32)                4128      \n",
            "_________________________________________________________________\n",
            "dropout_2 (Dropout)          (None, 32)                0         \n",
            "_________________________________________________________________\n",
            "dense_1 (Dense)              (None, 10)                330       \n",
            "=================================================================\n",
            "Total params: 216,426\n",
            "Trainable params: 216,426\n",
            "Non-trainable params: 0\n",
            "_________________________________________________________________\n"
          ],
          "name": "stdout"
        }
      ]
    },
    {
      "cell_type": "code",
      "metadata": {
        "id": "fgy281g4asct",
        "colab_type": "code",
        "colab": {}
      },
      "source": [
        "opt = tf.keras.optimizers.Adam(learning_rate=0.001)"
      ],
      "execution_count": 0,
      "outputs": []
    },
    {
      "cell_type": "code",
      "metadata": {
        "id": "l3-wqsXObdLN",
        "colab_type": "code",
        "colab": {}
      },
      "source": [
        "# compile the model\n",
        "model.compile(optimizer=opt, loss='sparse_categorical_crossentropy', metrics=['accuracy'])"
      ],
      "execution_count": 0,
      "outputs": []
    },
    {
      "cell_type": "markdown",
      "metadata": {
        "id": "pwq9iD5mc0yB",
        "colab_type": "text"
      },
      "source": [
        "# Step 4: Training the model"
      ]
    },
    {
      "cell_type": "code",
      "metadata": {
        "id": "DNmeKkE68jyf",
        "colab_type": "code",
        "colab": {}
      },
      "source": [
        "epochs=20"
      ],
      "execution_count": 0,
      "outputs": []
    },
    {
      "cell_type": "code",
      "metadata": {
        "id": "O9hgjaC-c1pK",
        "colab_type": "code",
        "outputId": "81e423ea-d41b-422d-a723-bbcef82abe02",
        "colab": {
          "base_uri": "https://localhost:8080/",
          "height": 734
        }
      },
      "source": [
        "history =  model.fit(x_train, y_train, epochs=epochs, validation_data=(x_test, y_test))"
      ],
      "execution_count": 21,
      "outputs": [
        {
          "output_type": "stream",
          "text": [
            "Train on 60000 samples, validate on 10000 samples\n",
            "Epoch 1/20\n",
            "60000/60000 [==============================] - 76s 1ms/sample - loss: 0.5704 - accuracy: 0.8148 - val_loss: 0.1256 - val_accuracy: 0.9610\n",
            "Epoch 2/20\n",
            "60000/60000 [==============================] - 73s 1ms/sample - loss: 0.1530 - accuracy: 0.9594 - val_loss: 0.0995 - val_accuracy: 0.9753\n",
            "Epoch 3/20\n",
            "60000/60000 [==============================] - 72s 1ms/sample - loss: 0.1062 - accuracy: 0.9720 - val_loss: 0.0689 - val_accuracy: 0.9800\n",
            "Epoch 4/20\n",
            "60000/60000 [==============================] - 71s 1ms/sample - loss: 0.0837 - accuracy: 0.9781 - val_loss: 0.0584 - val_accuracy: 0.9838\n",
            "Epoch 5/20\n",
            "60000/60000 [==============================] - 70s 1ms/sample - loss: 0.0699 - accuracy: 0.9820 - val_loss: 0.0632 - val_accuracy: 0.9834\n",
            "Epoch 6/20\n",
            "60000/60000 [==============================] - 69s 1ms/sample - loss: 0.0727 - accuracy: 0.9816 - val_loss: 0.0528 - val_accuracy: 0.9850\n",
            "Epoch 7/20\n",
            "60000/60000 [==============================] - 69s 1ms/sample - loss: 0.0535 - accuracy: 0.9861 - val_loss: 0.0547 - val_accuracy: 0.9858\n",
            "Epoch 8/20\n",
            "60000/60000 [==============================] - 68s 1ms/sample - loss: 0.0500 - accuracy: 0.9872 - val_loss: 0.0562 - val_accuracy: 0.9846\n",
            "Epoch 9/20\n",
            "60000/60000 [==============================] - 68s 1ms/sample - loss: 0.0419 - accuracy: 0.9883 - val_loss: 0.0497 - val_accuracy: 0.9861\n",
            "Epoch 10/20\n",
            "60000/60000 [==============================] - 68s 1ms/sample - loss: 0.0405 - accuracy: 0.9895 - val_loss: 0.0394 - val_accuracy: 0.9886\n",
            "Epoch 11/20\n",
            "60000/60000 [==============================] - 67s 1ms/sample - loss: 0.0374 - accuracy: 0.9903 - val_loss: 0.0509 - val_accuracy: 0.9872\n",
            "Epoch 12/20\n",
            "60000/60000 [==============================] - 67s 1ms/sample - loss: 0.0387 - accuracy: 0.9906 - val_loss: 0.0399 - val_accuracy: 0.9890\n",
            "Epoch 13/20\n",
            "60000/60000 [==============================] - 67s 1ms/sample - loss: 0.0300 - accuracy: 0.9919 - val_loss: 0.0477 - val_accuracy: 0.9884\n",
            "Epoch 14/20\n",
            "60000/60000 [==============================] - 67s 1ms/sample - loss: 0.0287 - accuracy: 0.9925 - val_loss: 0.0473 - val_accuracy: 0.9894\n",
            "Epoch 15/20\n",
            "60000/60000 [==============================] - 69s 1ms/sample - loss: 0.0266 - accuracy: 0.9926 - val_loss: 0.0377 - val_accuracy: 0.9907\n",
            "Epoch 16/20\n",
            "60000/60000 [==============================] - 68s 1ms/sample - loss: 0.0257 - accuracy: 0.9927 - val_loss: 0.0305 - val_accuracy: 0.9911\n",
            "Epoch 17/20\n",
            "60000/60000 [==============================] - 67s 1ms/sample - loss: 0.0243 - accuracy: 0.9935 - val_loss: 0.0463 - val_accuracy: 0.9886\n",
            "Epoch 18/20\n",
            "60000/60000 [==============================] - 67s 1ms/sample - loss: 0.0292 - accuracy: 0.9927 - val_loss: 0.0628 - val_accuracy: 0.9856\n",
            "Epoch 19/20\n",
            "60000/60000 [==============================] - 68s 1ms/sample - loss: 0.0201 - accuracy: 0.9947 - val_loss: 0.0387 - val_accuracy: 0.9899\n",
            "Epoch 20/20\n",
            "60000/60000 [==============================] - 68s 1ms/sample - loss: 0.0187 - accuracy: 0.9950 - val_loss: 0.0393 - val_accuracy: 0.9903\n"
          ],
          "name": "stdout"
        }
      ]
    },
    {
      "cell_type": "code",
      "metadata": {
        "id": "jtAh5AwomUOZ",
        "colab_type": "code",
        "colab": {}
      },
      "source": [
        "# predictions\n",
        "y_pred = model.predict_classes(x_test)"
      ],
      "execution_count": 0,
      "outputs": []
    },
    {
      "cell_type": "code",
      "metadata": {
        "id": "wQVQ1eIIme9D",
        "colab_type": "code",
        "outputId": "e933edc3-9edc-49fb-c802-1b825ef922ef",
        "colab": {
          "base_uri": "https://localhost:8080/",
          "height": 68
        }
      },
      "source": [
        "print(y_pred[10]), print(y_test[10])"
      ],
      "execution_count": 23,
      "outputs": [
        {
          "output_type": "stream",
          "text": [
            "0\n",
            "0\n"
          ],
          "name": "stdout"
        },
        {
          "output_type": "execute_result",
          "data": {
            "text/plain": [
              "(None, None)"
            ]
          },
          "metadata": {
            "tags": []
          },
          "execution_count": 23
        }
      ]
    },
    {
      "cell_type": "code",
      "metadata": {
        "id": "ArhloJtGm2fP",
        "colab_type": "code",
        "outputId": "07716a7c-b1d6-4e3c-e092-7e880c559d11",
        "colab": {
          "base_uri": "https://localhost:8080/",
          "height": 187
        }
      },
      "source": [
        "# confusion matrix\n",
        "from sklearn.metrics import confusion_matrix, accuracy_score\n",
        "cm = confusion_matrix(y_test, y_pred)\n",
        "print(cm)"
      ],
      "execution_count": 24,
      "outputs": [
        {
          "output_type": "stream",
          "text": [
            "[[ 978    0    0    0    0    0    1    1    0    0]\n",
            " [   0 1129    0    0    2    1    2    1    0    0]\n",
            " [   2    0 1023    2    0    0    3    0    2    0]\n",
            " [   4    0    1 1000    0    2    0    1    1    1]\n",
            " [   0    0    0    0  972    0    5    0    0    5]\n",
            " [   0    0    0    3    0  887    1    0    0    1]\n",
            " [   4    2    0    0    0    7  943    0    2    0]\n",
            " [   1    3    8    0    3    0    0 1012    0    1]\n",
            " [   1    0    1    2    0    2    1    0  967    0]\n",
            " [   0    0    0    1    9    2    0    5    0  992]]\n"
          ],
          "name": "stdout"
        }
      ]
    },
    {
      "cell_type": "code",
      "metadata": {
        "id": "lEM_HKLinVtG",
        "colab_type": "code",
        "outputId": "d17c4154-dccf-4b97-bdc2-03bfa4052c79",
        "colab": {
          "base_uri": "https://localhost:8080/",
          "height": 34
        }
      },
      "source": [
        "acc_cm = accuracy_score(y_test, y_pred)\n",
        "print(acc_cm)"
      ],
      "execution_count": 25,
      "outputs": [
        {
          "output_type": "stream",
          "text": [
            "0.9903\n"
          ],
          "name": "stdout"
        }
      ]
    },
    {
      "cell_type": "markdown",
      "metadata": {
        "id": "OOh3bEG-oG2G",
        "colab_type": "text"
      },
      "source": [
        "# Step 5: Learning Curve"
      ]
    },
    {
      "cell_type": "code",
      "metadata": {
        "id": "gr8I_FYGoLpn",
        "colab_type": "code",
        "colab": {}
      },
      "source": [
        "def learning_curve(history, epoch):\n",
        "\n",
        "  # training vs validation accuracy\n",
        "  epoch_range = range(1, epoch+1)\n",
        "  plt.plot(epoch_range, history.history['accuracy'])\n",
        "  plt.plot(epoch_range, history.history['val_accuracy'])\n",
        "  plt.title('Model Accuracy')\n",
        "  plt.ylabel('Accuracy')\n",
        "  plt.xlabel('Epoch')\n",
        "  plt.legend(['Train', 'val'], loc='upper left')\n",
        "  plt.show()\n",
        "\n",
        "  # training vs validation loss\n",
        "  plt.plot(epoch_range, history.history['loss'])\n",
        "  plt.plot(epoch_range, history.history['val_loss'])\n",
        "  plt.title('Model Loss')\n",
        "  plt.ylabel('Loss')\n",
        "  plt.xlabel('Epoch')\n",
        "  plt.legend(['Train', 'val'], loc='upper left')\n",
        "  plt.show()"
      ],
      "execution_count": 0,
      "outputs": []
    },
    {
      "cell_type": "code",
      "metadata": {
        "id": "6mvfbjbPonnY",
        "colab_type": "code",
        "outputId": "62a1957b-5fe8-4285-9257-730ff079053e",
        "colab": {
          "base_uri": "https://localhost:8080/",
          "height": 573
        }
      },
      "source": [
        "learning_curve(history, epochs)"
      ],
      "execution_count": 27,
      "outputs": [
        {
          "output_type": "display_data",
          "data": {
            "image/png": "[encoded data removed]",
            "text/plain": [
              "<Figure size 432x288 with 1 Axes>"
            ]
          },
          "metadata": {
            "tags": [],
            "needs_background": "light"
          }
        },
        {
          "output_type": "display_data",
          "data": {
            "image/png": "[encoded data removed]",
            "text/plain": [
              "<Figure size 432x288 with 1 Axes>"
            ]
          },
          "metadata": {
            "tags": [],
            "needs_background": "light"
          }
        }
      ]
    },
    {
      "cell_type": "code",
      "metadata": {
        "id": "-9DevWE18pB1",
        "colab_type": "code",
        "colab": {
          "base_uri": "https://localhost:8080/",
          "height": 391
        },
        "outputId": "37c8e08b-1303-4a7b-d339-6c054d3e0670"
      },
      "source": [
        "import seaborn as sns\n",
        "# heat map of data\n",
        "plt.figure(figsize=(5,5))\n",
        "sns.heatmap(cm,annot=True)"
      ],
      "execution_count": 28,
      "outputs": [
        {
          "output_type": "stream",
          "text": [
            "/usr/local/lib/python3.6/dist-packages/statsmodels/tools/_testing.py:19: FutureWarning: pandas.util.testing is deprecated. Use the functions in the public API at pandas.testing instead.\n",
            "  import pandas.util.testing as tm\n"
          ],
          "name": "stderr"
        },
        {
          "output_type": "execute_result",
          "data": {
            "text/plain": [
              "<matplotlib.axes._subplots.AxesSubplot at 0x7fdd4f90cb00>"
            ]
          },
          "metadata": {
            "tags": []
          },
          "execution_count": 28
        },
        {
          "output_type": "display_data",
          "data": {
            "image/png": "[encoded data removed]",
            "text/plain": [
              "<Figure size 360x360 with 2 Axes>"
            ]
          },
          "metadata": {
            "tags": [],
            "needs_background": "light"
          }
        }
      ]
    }
  ]
}